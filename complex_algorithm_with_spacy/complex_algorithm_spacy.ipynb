{
 "cells": [
  {
   "cell_type": "code",
   "execution_count": 203,
   "id": "ec69e812",
   "metadata": {},
   "outputs": [
    {
     "ename": "SyntaxError",
     "evalue": "incomplete input (3841371463.py, line 180)",
     "output_type": "error",
     "traceback": [
      "\u001b[1;36m  Cell \u001b[1;32mIn[203], line 180\u001b[1;36m\u001b[0m\n\u001b[1;33m    \u001b[0m\n\u001b[1;37m    ^\u001b[0m\n\u001b[1;31mSyntaxError\u001b[0m\u001b[1;31m:\u001b[0m incomplete input\n"
     ]
    }
   ],
   "source": [
    "import spacy \n",
    "nlp = spacy.load(\"de_core_news_sm\")\n",
    "from spacy.matcher import Matcher\n",
    "matcher = Matcher(nlp.vocab)\n",
    "\n",
    "prep_art_contraction_dict = {  \n",
    "    (\"an\", \"das\") : \"ans\",\n",
    "    (\"an\", \"dem\") : \"am\",\n",
    "    (\"auf\", \"das\") : \"aufs\",\n",
    "    (\"bei\", \"dem\") : \"beim\",\n",
    "    (\"durch\", \"das\") : \"durchs\",\n",
    "    (\"für\", \"das\") : \"fürs\",\n",
    "    (\"in\", \"dem\") : \"im\",\n",
    "    (\"in\", \"das\") : \"ins\",\n",
    "    (\"um\", \"das\") : \"ums\",\n",
    "    (\"von\", \"dem\") : \"vom\",\n",
    "    (\"zu\", \"dem\") : \"zum\",\n",
    "    (\"zu\", \"der\") : \"zur\"\n",
    "}\n",
    "\n",
    "prep_phrase_pattern = [\n",
    "    {\"POS\": \"ADP\", \"TAG\": \"APPR\"}, \n",
    "    {\"POS\": \"DET\", \"TAG\": \"ART\", \"DEP\": \"nk\"},\n",
    "    {\"POS\": \"NOUN\", \"TAG\": \"NN\"}\n",
    "]\n",
    "\n",
    "matcher.add(\"PREP_PHRASE\", [prep_phrase_pattern])\n",
    "sentence = \"Ich gehe zu der Schule, die schön ist, und danach in das Museum.\"\n",
    "doc = nlp(sentence)\n",
    "matches = matcher(doc)\n",
    "\n",
    "# Checked if there is a match with the pattern and print found prepositional phrase(s)\n",
    "if matches:\n",
    "    print(\"Found prepositional phrase.\")\n",
    "    for match_id, start, end in matches:\n",
    "        prep_phrase = doc[start:end].text\n",
    "        print(prep_phrase)\n",
    "        \n",
    "# Checked if the noun in the prepositional phrase has a relative clause that is modifying this noun.\n",
    "        for token in doc[start:end]:\n",
    "            noun_token = None\n",
    "            if token.pos_ == \"NOUN\":\n",
    "                noun_token = token\n",
    "                print(noun_token)\n",
    "                break\n",
    "                \n",
    "        if noun_token:\n",
    "            has_relative_clause = False\n",
    "            for child in noun_token.children:\n",
    "                if child.dep_ == \"rc\":\n",
    "                    relative_clause = doc[child.i:]\n",
    "                    has_relative_clause = True\n",
    "                    print(\"This noun has a relative clause, contraction not possible.\")\n",
    "                    break\n",
    "                    \n",
    "# If there is no relative clause, the preposition-article-pair should be contracted.\n",
    "            else: \n",
    "                for prep, art in prep_art_contraction_dict.keys():\n",
    "                    if noun_token.nbor(-1).text != art and noun_token.nbor(-2).text != prep:\n",
    "                        \n",
    "                        \n",
    "                        prep_art_pair = (noun_token.nbor(-2).text, noun_token.nbor(-1).text) #tuple\n",
    "                            prep_art_pair = prep_art_contraction_dict[(prep, art)].split() #list\n",
    "                            return nlp.make_doc(f\" {replacement}\" + doc[-1].text\n",
    "\n",
    "                                                \n",
    "                                                \n",
    "                                                \n",
    " \n"
   ]
  },
  {
   "cell_type": "code",
   "execution_count": null,
   "id": "23bc2f58",
   "metadata": {},
   "outputs": [],
   "source": []
  },
  {
   "cell_type": "code",
   "execution_count": null,
   "id": "aec1a0b4",
   "metadata": {},
   "outputs": [],
   "source": []
  },
  {
   "cell_type": "code",
   "execution_count": null,
   "id": "8811b5db",
   "metadata": {},
   "outputs": [],
   "source": []
  },
  {
   "cell_type": "code",
   "execution_count": null,
   "id": "b54344ff",
   "metadata": {},
   "outputs": [],
   "source": []
  }
 ],
 "metadata": {
  "kernelspec": {
   "display_name": "Python 3 (ipykernel)",
   "language": "python",
   "name": "python3"
  },
  "language_info": {
   "codemirror_mode": {
    "name": "ipython",
    "version": 3
   },
   "file_extension": ".py",
   "mimetype": "text/x-python",
   "name": "python",
   "nbconvert_exporter": "python",
   "pygments_lexer": "ipython3",
   "version": "3.11.3"
  }
 },
 "nbformat": 4,
 "nbformat_minor": 5
}
