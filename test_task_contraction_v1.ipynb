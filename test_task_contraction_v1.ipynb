{
 "cells": [
  {
   "cell_type": "code",
   "execution_count": 2,
   "id": "a9d0236b",
   "metadata": {},
   "outputs": [
    {
     "ename": "AssertionError",
     "evalue": "",
     "output_type": "error",
     "traceback": [
      "\u001b[1;31m---------------------------------------------------------------------------\u001b[0m",
      "\u001b[1;31mAssertionError\u001b[0m                            Traceback (most recent call last)",
      "Cell \u001b[1;32mIn[2], line 41\u001b[0m\n\u001b[0;32m     37\u001b[0m     \u001b[38;5;66;03m#Not working\u001b[39;00m\n\u001b[0;32m     38\u001b[0m     \u001b[38;5;66;03m#Test case 9: Genitivattribut\u001b[39;00m\n\u001b[0;32m     39\u001b[0m     \u001b[38;5;28;01massert\u001b[39;00m contract(\u001b[38;5;124m\"\u001b[39m\u001b[38;5;124mAuf dem Gelände der Autofabrik hat es gebrannt.\u001b[39m\u001b[38;5;124m\"\u001b[39m) \u001b[38;5;241m==\u001b[39m \u001b[38;5;124m\"\u001b[39m\u001b[38;5;124mAuf dem Gelände der Autofabrik hat es gebrannt.\u001b[39m\u001b[38;5;124m\"\u001b[39m\n\u001b[1;32m---> 41\u001b[0m \u001b[43mtest_contract\u001b[49m\u001b[43m(\u001b[49m\u001b[43m)\u001b[49m\n",
      "Cell \u001b[1;32mIn[2], line 25\u001b[0m, in \u001b[0;36mtest_contract\u001b[1;34m()\u001b[0m\n\u001b[0;32m     21\u001b[0m \u001b[38;5;28;01massert\u001b[39;00m contract(\u001b[38;5;124m\"\u001b[39m\u001b[38;5;124mTäter dringen auf ein Gelände eines Privathauses ein.\u001b[39m\u001b[38;5;124m\"\u001b[39m) \u001b[38;5;241m==\u001b[39m \u001b[38;5;124m\"\u001b[39m\u001b[38;5;124mTäter dringen auf ein Gelände eines Privathauses ein.\u001b[39m\u001b[38;5;124m\"\u001b[39m\n\u001b[0;32m     23\u001b[0m \u001b[38;5;66;03m#Not working\u001b[39;00m\n\u001b[0;32m     24\u001b[0m \u001b[38;5;66;03m#Test case 6: Attributsatz\u001b[39;00m\n\u001b[1;32m---> 25\u001b[0m \u001b[38;5;28;01massert\u001b[39;00m contract(\u001b[38;5;124m\"\u001b[39m\u001b[38;5;124mIch lese ein Buch, in dem Lehrer über ihre Erfahrungen berichten.\u001b[39m\u001b[38;5;124m\"\u001b[39m) \u001b[38;5;241m==\u001b[39m \\\n\u001b[0;32m     26\u001b[0m \u001b[38;5;124m\"\u001b[39m\u001b[38;5;124mIch lese ein Buch, in dem Lehrer über ihre Erfahrungen berichten.\u001b[39m\u001b[38;5;124m\"\u001b[39m\n\u001b[0;32m     28\u001b[0m \u001b[38;5;66;03m#Not working\u001b[39;00m\n\u001b[0;32m     29\u001b[0m \u001b[38;5;66;03m#Test case 7: Präpositionalattribut\u001b[39;00m\n\u001b[0;32m     30\u001b[0m \u001b[38;5;28;01massert\u001b[39;00m contract(\u001b[38;5;124m\"\u001b[39m\u001b[38;5;124mIch bin hinter dem Haus von Ole.\u001b[39m\u001b[38;5;124m\"\u001b[39m) \u001b[38;5;241m==\u001b[39m \u001b[38;5;124m\"\u001b[39m\u001b[38;5;124mIch bin hinter dem Haus von Ole.\u001b[39m\u001b[38;5;124m\"\u001b[39m\n",
      "\u001b[1;31mAssertionError\u001b[0m: "
     ]
    }
   ],
   "source": [
    "import pytest\n",
    "from task_contraction_v1 import contract\n",
    "\n",
    "    \n",
    "def test_contract_prep_art_at_the_end():\n",
    "    # Test case 1: The preposition-article pair that should be contracted, is at the end of the sentence.\n",
    "    assert contract(\"Ich gehe zu der Schule.\") == \"Ich gehe zur Schule.\"\n",
    "\n",
    "def test_contract_prep_art_at_the_beginning():\n",
    "    # Test case 2: The preposition-article pair that should be contracted, is at the beginning of the sentence \\\n",
    "    # check for case-sensitivity.\n",
    "    assert contract (\"In dem Frühsommer ziehen Tomaten in den Garten um.\") == \"Im Frühsommer ziehen Tomaten in den Garten um.\"\n",
    "    \n",
    "def test_contract_many_prep_art():\n",
    "    #Test case 3: Sentence with many preposition-article pairs that should be contracted.\n",
    "    assert contract(\"Zu der Schule gehe ich zuerst und danach in das Kino.\") == \"Zur Schule gehe ich zuerst und danach ins Kino.\"\n",
    "\n",
    "def test_contract_prep_art_not_in_the_dict():\n",
    "    #Test case 4: Sentence with the preposition-article pair not included in the dictionary. \n",
    "    assert contract(\"Neben der Schule befindet sich eine Sporthalle.\") == \"Neben der Schule befindet sich eine Sporthalle.\"\n",
    "    \n",
    "def test_contract_prep_art_indefinite():\n",
    "    #Test case 5: Sentence with the preposition-article pair where the article is indefinite.\n",
    "    assert contract(\"Täter dringen auf ein Gelände eines Privathauses ein.\") == \"Täter dringen auf ein Gelände eines Privathauses ein.\"\n",
    "    \n",
    "#tests below failing due to missing syntax tags   \n",
    "\n",
    "def test_contract_if_attribute1():\n",
    "    #Test case 6: Attributsatz. #Not working\n",
    "    assert contract(\"Ich lese ein Buch, in dem Lehrer über ihre Erfahrungen berichten.\") == \\\n",
    "    \"Ich lese ein Buch, in dem Lehrer über ihre Erfahrungen berichten.\"\n",
    "\n",
    "def test_contract_if_prep_attribute():\n",
    "    #Test case 7: Präpositionalattribut. #Not working\n",
    "    assert contract(\"Ich bin hinter dem Haus von Ole.\") == \"Ich bin hinter dem Haus von Ole.\"\n",
    "    \n",
    "def test_contract_if_attribute2():\n",
    "    #Test case 8: Attributsatz. #Not working\n",
    "    assert contract(\"Ich bin in dem Park, wo wir uns letztes Mal getroffen haben.\") == \\\n",
    "    \"Ich bin in dem Park, wo wir uns letztes Mal getroffen haben.\"\n",
    "    \n",
    "def test_contract_if_Gen_attribute():\n",
    "    #Test case 9: Genitivattribut. #Not working\n",
    "    assert contract(\"Auf dem Gelände der Autofabrik hat es gebrannt.\") == \"Auf dem Gelände der Autofabrik hat es gebrannt.\"\n"
   ]
  },
  {
   "cell_type": "code",
   "execution_count": null,
   "id": "7e94861a",
   "metadata": {},
   "outputs": [],
   "source": []
  },
  {
   "cell_type": "code",
   "execution_count": null,
   "id": "c5124cd9",
   "metadata": {},
   "outputs": [],
   "source": []
  },
  {
   "cell_type": "code",
   "execution_count": null,
   "id": "1ca1e2d2",
   "metadata": {},
   "outputs": [],
   "source": []
  }
 ],
 "metadata": {
  "kernelspec": {
   "display_name": "Python 3 (ipykernel)",
   "language": "python",
   "name": "python3"
  },
  "language_info": {
   "codemirror_mode": {
    "name": "ipython",
    "version": 3
   },
   "file_extension": ".py",
   "mimetype": "text/x-python",
   "name": "python",
   "nbconvert_exporter": "python",
   "pygments_lexer": "ipython3",
   "version": "3.11.3"
  }
 },
 "nbformat": 4,
 "nbformat_minor": 5
}
