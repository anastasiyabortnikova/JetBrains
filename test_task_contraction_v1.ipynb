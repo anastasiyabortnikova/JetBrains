{
 "cells": [
  {
   "cell_type": "code",
   "execution_count": 2,
   "id": "a9d0236b",
   "metadata": {},
   "outputs": [
    {
     "ename": "AssertionError",
     "evalue": "",
     "output_type": "error",
     "traceback": [
      "\u001b[1;31m---------------------------------------------------------------------------\u001b[0m",
      "\u001b[1;31mAssertionError\u001b[0m                            Traceback (most recent call last)",
      "Cell \u001b[1;32mIn[2], line 41\u001b[0m\n\u001b[0;32m     37\u001b[0m     \u001b[38;5;66;03m#Not working\u001b[39;00m\n\u001b[0;32m     38\u001b[0m     \u001b[38;5;66;03m#Test case 9: Genitivattribut\u001b[39;00m\n\u001b[0;32m     39\u001b[0m     \u001b[38;5;28;01massert\u001b[39;00m contract(\u001b[38;5;124m\"\u001b[39m\u001b[38;5;124mAuf dem Gelände der Autofabrik hat es gebrannt.\u001b[39m\u001b[38;5;124m\"\u001b[39m) \u001b[38;5;241m==\u001b[39m \u001b[38;5;124m\"\u001b[39m\u001b[38;5;124mAuf dem Gelände der Autofabrik hat es gebrannt.\u001b[39m\u001b[38;5;124m\"\u001b[39m\n\u001b[1;32m---> 41\u001b[0m \u001b[43mtest_contract\u001b[49m\u001b[43m(\u001b[49m\u001b[43m)\u001b[49m\n",
      "Cell \u001b[1;32mIn[2], line 25\u001b[0m, in \u001b[0;36mtest_contract\u001b[1;34m()\u001b[0m\n\u001b[0;32m     21\u001b[0m \u001b[38;5;28;01massert\u001b[39;00m contract(\u001b[38;5;124m\"\u001b[39m\u001b[38;5;124mTäter dringen auf ein Gelände eines Privathauses ein.\u001b[39m\u001b[38;5;124m\"\u001b[39m) \u001b[38;5;241m==\u001b[39m \u001b[38;5;124m\"\u001b[39m\u001b[38;5;124mTäter dringen auf ein Gelände eines Privathauses ein.\u001b[39m\u001b[38;5;124m\"\u001b[39m\n\u001b[0;32m     23\u001b[0m \u001b[38;5;66;03m#Not working\u001b[39;00m\n\u001b[0;32m     24\u001b[0m \u001b[38;5;66;03m#Test case 6: Attributsatz\u001b[39;00m\n\u001b[1;32m---> 25\u001b[0m \u001b[38;5;28;01massert\u001b[39;00m contract(\u001b[38;5;124m\"\u001b[39m\u001b[38;5;124mIch lese ein Buch, in dem Lehrer über ihre Erfahrungen berichten.\u001b[39m\u001b[38;5;124m\"\u001b[39m) \u001b[38;5;241m==\u001b[39m \\\n\u001b[0;32m     26\u001b[0m \u001b[38;5;124m\"\u001b[39m\u001b[38;5;124mIch lese ein Buch, in dem Lehrer über ihre Erfahrungen berichten.\u001b[39m\u001b[38;5;124m\"\u001b[39m\n\u001b[0;32m     28\u001b[0m \u001b[38;5;66;03m#Not working\u001b[39;00m\n\u001b[0;32m     29\u001b[0m \u001b[38;5;66;03m#Test case 7: Präpositionalattribut\u001b[39;00m\n\u001b[0;32m     30\u001b[0m \u001b[38;5;28;01massert\u001b[39;00m contract(\u001b[38;5;124m\"\u001b[39m\u001b[38;5;124mIch bin hinter dem Haus von Ole.\u001b[39m\u001b[38;5;124m\"\u001b[39m) \u001b[38;5;241m==\u001b[39m \u001b[38;5;124m\"\u001b[39m\u001b[38;5;124mIch bin hinter dem Haus von Ole.\u001b[39m\u001b[38;5;124m\"\u001b[39m\n",
      "\u001b[1;31mAssertionError\u001b[0m: "
     ]
    }
   ],
   "source": [
    "import pytest\n",
    "from task_contraction_v1 import contract\n",
    "\n",
    "    \n",
    "def test_contract_prep_art_at_the_end():\n",
    "    # Test case 1: tests if the algorithm contracts the preposition-article pair when the prepositional phrase is at the end of the sentence.\n",
    "    assert contract(\"Ich gehe zu der Schule.\") == \"Ich gehe zur Schule.\"\n",
    "\n",
    "def test_contract_prep_art_at_the_beginning():\n",
    "    # Test case 2: checks case-sensitivity and tests if the algorithm contracts the preposition-article pair when the prepositional phrase is at the beginning of the sentence.\n",
    "    assert contract (\"In dem Frühsommer ziehen Tomaten in den Garten um.\") == \"Im Frühsommer ziehen Tomaten in den Garten um.\"\n",
    "    \n",
    "def test_contract_many_prep_art():\n",
    "    # Test case 3: tests if the algorithm contracts multiple preposition-article pairs in one sentence.\n",
    "    assert contract(\"Zu der Schule gehe ich zuerst und danach in das Kino.\") == \"Zur Schule gehe ich zuerst und danach ins Kino.\"\n",
    "\n",
    "def test_contract_prep_art_not_in_dict():\n",
    "    # Test case 4: tests if the algorithm contracts a preposition-article pair that is not in the dictionary. \n",
    "    assert contract(\"Neben der Schule befindet sich die Sporthalle.\") == \"Neben der Schule befindet sich die Sporthalle.\"\n",
    "    \n",
    "#tests below failing due to missing POS and syntax tags   \n",
    "\n",
    "def test_contract_if_relative_clause_with_relative_pronoun():\n",
    "    #Test case 5: shows that the algorithm does not work on a relative clause which is introduced by a relative pronoun.\n",
    "    assert contract(\"Wir wohnen in dem Haus, das Herr Maier verkaufen will.\") == \"Wir wohnen in dem Haus, das Herr Maier verkaufen will.\"\n",
    "\n",
    "def test_contract_if_relative_clause_with_relative_adverb():\n",
    "    #Test case 6: shows that the algorithm does not work on a relative clause which is introduced by a relative adverb.\n",
    "    assert contract(\"Ich bin in dem Park, wo wir uns letztes Mal getroffen haben.\") == \"Ich bin in dem Park, wo wir uns letztes Mal getroffen haben.\"\n",
    "    \n",
    "def test_contract_if_relative_clause_with_preposition_and_relative_pronoun(): \n",
    "    #Test case 7: shows that the algorithm does not work on a relative clause which is introduced by a preposition before a relative pronoun.\n",
    "    assert contract(\"Ich lese ein Buch, in dem Lehrer über ihre Erfahrungen berichten.\") == \\\n",
    "    \"Ich lese ein Buch, in dem Lehrer über ihre Erfahrungen berichten.\"\n",
    "    \n",
    "def test_contract_if_def_art_used_as_demonstrative_pronoun():\n",
    "    #Test case 8: shows that the algorithm does not work if the definite article is used as a demonstrative pronoun.\n",
    "    assert contract(\"Zu dem Arzt gehen wir nie wieder hin.\") == \"Zu dem Arzt gehen wir nie wieder hin.\"\n"
   ]
  },
  {
   "cell_type": "code",
   "execution_count": null,
   "id": "7e94861a",
   "metadata": {},
   "outputs": [],
   "source": []
  },
  {
   "cell_type": "code",
   "execution_count": null,
   "id": "c5124cd9",
   "metadata": {},
   "outputs": [],
   "source": []
  },
  {
   "cell_type": "code",
   "execution_count": null,
   "id": "1ca1e2d2",
   "metadata": {},
   "outputs": [],
   "source": []
  }
 ],
 "metadata": {
  "kernelspec": {
   "display_name": "Python 3 (ipykernel)",
   "language": "python",
   "name": "python3"
  },
  "language_info": {
   "codemirror_mode": {
    "name": "ipython",
    "version": 3
   },
   "file_extension": ".py",
   "mimetype": "text/x-python",
   "name": "python",
   "nbconvert_exporter": "python",
   "pygments_lexer": "ipython3",
   "version": "3.11.3"
  }
 },
 "nbformat": 4,
 "nbformat_minor": 5
}
