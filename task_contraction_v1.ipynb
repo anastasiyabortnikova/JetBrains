{
 "cells": [
  {
   "cell_type": "code",
   "execution_count": 23,
   "id": "b0e9ade5",
   "metadata": {},
   "outputs": [
    {
     "name": "stdout",
     "output_type": "stream",
     "text": [
      "Ich lese ein Buch, im Lehrer über ihre Erfahrung berichten.\n"
     ]
    }
   ],
   "source": [
    "# I assume that the sentences where the function should be tested in are grammatically correct.\n",
    "# Prepositions in German: There are certain prepositions, not all, that can be contracted. \n",
    "    # The code includes formal and сolloquial contracted forms of the German preposition-article pairs. \n",
    "    # Colloquial forms are: aufm, fürs, hinterm, übers, überm, unterm, unters, vorm.\n",
    "# Rule for articles: definite, Sg, in Dative or Accusative.\n",
    "# Rule: Not every preposition-article pair from the lists above can be contracted. \n",
    "# The rule ignored in this code: Syntax: No contraction if there is a modifier after the prep-art-noun.\n",
    "# Contraction rule: preposition without -n at the end + last letter of the article. If preposition ends -n is contracted with dem, change -n to -m\n",
    "\n",
    "def contract(sentence):\n",
    "    \"\"\" The function returns the sentence with contracted prepositions and articles if conditions in the loop are met. \n",
    "         sentence: A string representing the input sentence.\n",
    "         return: A string representing the input sentence with contracted prepositions and articles, if conditions in the loop are met. Otherwise, the original sentence will remain with no changes.\n",
    "    \"\"\"\n",
    "    \n",
    "    words = sentence.split()  #it is a list\n",
    "\n",
    "    prep_art_contraction = {  #comment\n",
    "        (\"an\", \"das\") : \"ans\",\n",
    "        (\"an\", \"dem\") : \"am\",\n",
    "        (\"auf\", \"das\") : \"aufs\",\n",
    "        (\"auf\", \"dem\") : \"aufm\",\n",
    "        (\"bei\", \"dem\") : \"beim\",\n",
    "        (\"durch\", \"das\") : \"durchs\",\n",
    "        (\"für\", \"das\") : \"fürs\",\n",
    "        (\"hinter\", \"dem\") : \"hinterm\",\n",
    "        (\"in\", \"dem\") : \"im\",\n",
    "        (\"in\", \"das\") : \"ins\",\n",
    "        (\"über\", \"das\") : \"übers\",\n",
    "        (\"über\", \"dem\") : \"überm\",\n",
    "        (\"um\", \"das\") : \"ums\",\n",
    "        (\"unter\", \"das\") : \"unters\",\n",
    "        (\"unter\", \"dem\") : \"unterm\",\n",
    "        (\"von\", \"dem\") : \"vom\",\n",
    "        (\"vor\", \"dem\") : \"vorm\",\n",
    "        (\"zu\", \"dem\") : \"zum\",\n",
    "        (\"zu\", \"der\") : \"zur\"\n",
    "\n",
    "    }\n",
    "\n",
    "        \n",
    "\n",
    "    for key in prep_art_contraction:\n",
    "        x, y = key  # Unpacked the tuple in the key into two variables.\n",
    "        for i in range(len(words) - 1): # comment \n",
    "            if words[i].lower() == x and words[i+1].lower() == y: # comment?\n",
    "                words[i:i+2] = [prep_art_contraction[key]] # Replaced the preposition and article with the contracted form.\n",
    "                    \n",
    "                    \n",
    "    contracted_sentence = \" \".join(words) # Reconstructed the sentence from the modified list of words.\n",
    "    #contracted_sentence = contracted_sentence.replace(\" \", \"\")  # Removed extra white spaces.\n",
    "    \n",
    "    return contracted_sentence[0].upper() + contracted_sentence[1:] # Returns the sentence with contracted form if conditions are met. Otherwise original sentence with no changes. Returns the capitalization of the initial letter in the sentence.\n",
    "\n",
    "print(contract(\"Ich lese ein Buch, in dem Lehrer über ihre Erfahrung berichten.\"))"
   ]
  },
  {
   "cell_type": "code",
   "execution_count": null,
   "id": "3e1c9fd0",
   "metadata": {},
   "outputs": [],
   "source": []
  },
  {
   "cell_type": "code",
   "execution_count": null,
   "id": "f34c0e26",
   "metadata": {},
   "outputs": [],
   "source": []
  },
  {
   "cell_type": "code",
   "execution_count": null,
   "id": "ea022870",
   "metadata": {},
   "outputs": [],
   "source": []
  }
 ],
 "metadata": {
  "kernelspec": {
   "display_name": "Python 3 (ipykernel)",
   "language": "python",
   "name": "python3"
  },
  "language_info": {
   "codemirror_mode": {
    "name": "ipython",
    "version": 3
   },
   "file_extension": ".py",
   "mimetype": "text/x-python",
   "name": "python",
   "nbconvert_exporter": "python",
   "pygments_lexer": "ipython3",
   "version": "3.11.3"
  }
 },
 "nbformat": 4,
 "nbformat_minor": 5
}
