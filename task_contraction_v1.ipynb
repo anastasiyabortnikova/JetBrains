{
 "cells": [
  {
   "cell_type": "code",
   "execution_count": 23,
   "id": "b0e9ade5",
   "metadata": {},
   "outputs": [
    {
     "name": "stdout",
     "output_type": "stream",
     "text": [
      "Ich lese ein Buch, im Lehrer über ihre Erfahrung berichten.\n"
     ]
    }
   ],
   "source": [
    "def contract(sentence):\n",
    "    \"\"\" The function returns the sentence with contracted prepositions and articles if conditions in the loop are met. \n",
    "         sentence: A string representing the input sentence.\n",
    "         return: A string representing the input sentence with contracted prepositions and articles, if conditions in the loop are met. \n",
    "         Otherwise, the original sentence will remain with no changes.\n",
    "    \"\"\"\n",
    "    \n",
    "    words = sentence.split()  \n",
    "\n",
    "    prep_art_contraction = {  \n",
    "        (\"an\", \"das\") : \"ans\",\n",
    "        (\"an\", \"dem\") : \"am\",\n",
    "        (\"auf\", \"das\") : \"aufs\",\n",
    "        (\"bei\", \"dem\") : \"beim\",\n",
    "        (\"durch\", \"das\") : \"durchs\",\n",
    "        (\"für\", \"das\") : \"fürs\",\n",
    "        (\"in\", \"dem\") : \"im\",\n",
    "        (\"in\", \"das\") : \"ins\",\n",
    "        (\"um\", \"das\") : \"ums\",\n",
    "        (\"von\", \"dem\") : \"vom\",\n",
    "        (\"zu\", \"dem\") : \"zum\",\n",
    "        (\"zu\", \"der\") : \"zur\"\n",
    "\n",
    "    }\n",
    "\n",
    "        \n",
    "\n",
    "    for key in prep_art_contraction:\n",
    "        x, y = key  \n",
    "        for i in range(len(words) - 1): \n",
    "            if words[i].lower() == x and words[i+1].lower() == y: \n",
    "                words[i:i+2] = [prep_art_contraction[key]] \n",
    "                    \n",
    "                    \n",
    "    contracted_sentence = \" \".join(words) \n",
    "    \n",
    "    \n",
    "    return contracted_sentence[0].upper() + contracted_sentence[1:] \n"
   ]
  },
  {
   "cell_type": "code",
   "execution_count": null,
   "id": "3e1c9fd0",
   "metadata": {},
   "outputs": [],
   "source": []
  },
  {
   "cell_type": "code",
   "execution_count": null,
   "id": "f34c0e26",
   "metadata": {},
   "outputs": [],
   "source": []
  },
  {
   "cell_type": "code",
   "execution_count": null,
   "id": "ea022870",
   "metadata": {},
   "outputs": [],
   "source": []
  }
 ],
 "metadata": {
  "kernelspec": {
   "display_name": "Python 3 (ipykernel)",
   "language": "python",
   "name": "python3"
  },
  "language_info": {
   "codemirror_mode": {
    "name": "ipython",
    "version": 3
   },
   "file_extension": ".py",
   "mimetype": "text/x-python",
   "name": "python",
   "nbconvert_exporter": "python",
   "pygments_lexer": "ipython3",
   "version": "3.11.3"
  }
 },
 "nbformat": 4,
 "nbformat_minor": 5
}
